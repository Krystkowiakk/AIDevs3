{
 "cells": [
  {
   "cell_type": "markdown",
   "metadata": {},
   "source": [
    "## AIDevs3 tasks from newest to oldest, work in progress..."
   ]
  },
  {
   "cell_type": "markdown",
   "metadata": {},
   "source": [
    "# S01E01"
   ]
  },
  {
   "cell_type": "code",
   "execution_count": 6,
   "metadata": {},
   "outputs": [
    {
     "name": "stdout",
     "output_type": "stream",
     "text": [
      "Question:<br />Rok lądowania na Księżycu?  Answer: 1969\n",
      "{FLG:} found: FIRMWARE\n"
     ]
    }
   ],
   "source": [
    "# Standard library imports\n",
    "import requests\n",
    "import re\n",
    "\n",
    "# Third-party imports\n",
    "from utilities.common import OpenAIClient\n",
    "from utilities.config import S01E01_TASK_URL, S01E01_TASK_USERNAME, S01E01_TASK_PASSWORD\n",
    "\n",
    "# Configuration \n",
    "url, username, password = S01E01_TASK_URL, S01E01_TASK_USERNAME, S01E01_TASK_PASSWORD\n",
    "\n",
    "# Initialize OpenAI client\n",
    "client_openai = OpenAIClient()\n",
    "\n",
    "def get_current_question():\n",
    "    \"\"\"Fetches the current question from the specified URL.\"\"\"\n",
    "    try:\n",
    "        response = requests.get(url)\n",
    "        response.raise_for_status()\n",
    "        match = re.search(r'<p id=\"human-question\">(.*?)</p>', response.text)\n",
    "        return match.group(1).strip() if match else None\n",
    "    except requests.RequestException as err:\n",
    "        print(f\"Error: {err}\")\n",
    "        return None\n",
    "\n",
    "# Fetch question and get AI-generated answer\n",
    "question = get_current_question()\n",
    "if question:\n",
    "    answer = client_openai.get_completion(\n",
    "        prompt=f\"Answer just numbers: {question}\", temperature=0.1\n",
    "    )\n",
    "    print(question, \" Answer:\", answer)\n",
    "\n",
    "    # Submit login data and retrieve flag if available\n",
    "    response = requests.post(\n",
    "        url,\n",
    "        data={'username': username, 'password': password, 'answer': answer}\n",
    "    )\n",
    "    if response.status_code == 200:\n",
    "        match = re.search(r\"\\{FLG:(.*?)\\}\", response.text)\n",
    "        print(\"{FLG:} found:\", match.group(1).strip() if match else \"No flag found.\")\n",
    "    else:\n",
    "        print(f\"Login failed. Status: {response.status_code}\")\n",
    "else:\n",
    "    print(\"Failed to retrieve the question.\")"
   ]
  },
  {
   "attachments": {},
   "cell_type": "markdown",
   "metadata": {},
   "source": [
    "# S00E01\n",
    "At the address below, there are two strings (note! They change from time to time, so don't hardcode them in your code!).\n",
    "Your task is to retrieve them and send them back as an array of strings to the API endpoint:"
   ]
  },
  {
   "cell_type": "code",
   "execution_count": 1,
   "metadata": {},
   "outputs": [
    {
     "name": "stdout",
     "output_type": "stream",
     "text": [
      "Submit response: {'code': 0, 'message': 'Super. Wszystko OK!'}\n"
     ]
    }
   ],
   "source": [
    "# Import necessary modules\n",
    "from utilities.common import AIDevsClient\n",
    "from utilities.config import S00E01_DATA_URL\n",
    "\n",
    "# Configuration\n",
    "task_name = \"POLIGON\"\n",
    "data_url = S00E01_DATA_URL\n",
    "\n",
    "# Initialize the client\n",
    "client_aidevs = AIDevsClient()\n",
    "\n",
    "# Step 1: Retrieve data using the client method\n",
    "data_list = client_aidevs.fetch_data(data_url)\n",
    "\n",
    "# Step 2: Submit the answer\n",
    "if data_list:\n",
    "    submit_response = client_aidevs.submit_answer(task_name, data_list)\n",
    "    print(\"Submit response:\", submit_response)"
   ]
  }
 ],
 "metadata": {
  "kernelspec": {
   "display_name": "python_env",
   "language": "python",
   "name": "python3"
  },
  "language_info": {
   "codemirror_mode": {
    "name": "ipython",
    "version": 3
   },
   "file_extension": ".py",
   "mimetype": "text/x-python",
   "name": "python",
   "nbconvert_exporter": "python",
   "pygments_lexer": "ipython3",
   "version": "3.9.19"
  },
  "orig_nbformat": 4
 },
 "nbformat": 4,
 "nbformat_minor": 2
}
